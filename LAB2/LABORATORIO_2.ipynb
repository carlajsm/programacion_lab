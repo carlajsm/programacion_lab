{
 "cells": [
  {
   "cell_type": "markdown",
   "metadata": {},
   "source": [
    "## NOMBRE: CARLA JAEL SALINAS MAMANI\n",
    "## CARRERA: ELECTRONICA\n",
    "## MATERIA: LAB  DE PROGRAMACION\n",
    "## RU: 1814673\n",
    "## CL: 9886540"
   ]
  },
  {
   "cell_type": "markdown",
   "metadata": {},
   "source": [
    "Lab2) 1 triángulos 2 Vandermonde 3 horner 4 2 ecuaciones 2 incogni\n",
    "Vence el 2 de marzo de 2022 23:59\n",
    "\n",
    "Instrucciones\n",
    "1 Resolución de triángulos  dados 3 datos  tres lados , tres ángulos, 2 lados  1 ángulo ,2 ángulos 1 lado  resolver los otros tres valores  y calcular  el area y superficie del triangulo y medianas\n",
    "\n",
    "2 Generar matrices enésimas de Vandermonde  y calcular el determinante\n",
    "\n",
    "3 Realizar la division de polinomios con el método Horner\n",
    "\n",
    "4 Resolver un sistema de 2 ecuaciones y 2 incógnitas\n",
    "\n",
    "Para este laboratorio se conformaran grupos de 2 estudiantes , pudiendo trabajar también  en forma individual\n",
    "\n",
    "aclaracion pregunta 1\n",
    "\n",
    "https://es.calcprofi.com/calculo-de-triangulo.html\n",
    "\n",
    "https://www.mathepower.com/es/triangulo.php\n",
    "\n",
    "https://www.micalculadora.net/matematicas/triangulo-area-lado-anguloe\n",
    "\n",
    "deben usar ley de senos, ley de cosenos, ley de tangentes\n"
   ]
  },
  {
   "cell_type": "markdown",
   "metadata": {},
   "source": [
    "## 1. Resolución de triángulos  dados 3 datos  tres lados , tres ángulos, 2 lados  1 ángulo ,2 ángulos 1 lado  resolver los otros tres valores  y calcular  el area y superficie del triangulo y medianas"
   ]
  },
  {
   "cell_type": "code",
   "execution_count": 1,
   "metadata": {},
   "outputs": [],
   "source": [
    "import numpy as np\n",
    "import math\n"
   ]
  },
  {
   "cell_type": "markdown",
   "metadata": {},
   "source": [
    "### Caso 1"
   ]
  },
  {
   "cell_type": "code",
   "execution_count": 2,
   "metadata": {},
   "outputs": [
    {
     "name": "stdin",
     "output_type": "stream",
     "text": [
      "Ingrese el valor del lado a :  25.2\n",
      "Ingrese el valor del ángulo B  :  56.32\n",
      "Ingrese el valor del ángulo C :  38.40\n"
     ]
    }
   ],
   "source": [
    "#Datos un lado y dos angulos\n",
    "\n",
    "a = float(input('Ingrese el valor del lado a : '))\n",
    "B = float(input('Ingrese el valor del ángulo B  : ')) \n",
    "C = float(input('Ingrese el valor del ángulo C : '))\n"
   ]
  },
  {
   "cell_type": "code",
   "execution_count": 5,
   "metadata": {},
   "outputs": [
    {
     "name": "stdout",
     "output_type": "stream",
     "text": [
      "El angulo A es igual a =  85.28 grados\n",
      "El lado b es igual a = 21.041 cm\n",
      "El lado c es igual a = 15.706 cm\n",
      "El area del triangulo es :  164.68\n",
      "la mediana es igual a :  18.17\n"
     ]
    }
   ],
   "source": [
    "A = 180 - (B+C)\n",
    "print('El angulo A es igual a = ', A, 'grados')\n",
    "\n",
    "radian_A = math.radians(A)\n",
    "radian_B = math.radians(B)\n",
    "radian_C = math.radians(C)\n",
    "b = (a*np.sin(radian_B))/(np.sin(radian_A))\n",
    "print('El lado b es igual a =', np.round(b,3), 'cm')\n",
    "\n",
    "c = (a*np.sin(radian_C))/(np.sin(radian_A))\n",
    "print('El lado c es igual a =', np.round(c,3), 'cm')\n",
    "\n",
    "area = (1/2) *a*b* np.sin(radian_C)\n",
    "print('El area del triangulo es : ',np.round(area,2))\n",
    "\n",
    "\n",
    "mediana = np.sqrt(2*(a**2+c**2)-b**2)/2\n",
    "print('la mediana es igual a : ', np.round(mediana,2))"
   ]
  },
  {
   "cell_type": "code",
   "execution_count": 6,
   "metadata": {},
   "outputs": [
    {
     "name": "stdin",
     "output_type": "stream",
     "text": [
      "Ingrese el valor del lado a :  10\n",
      "Ingrese el valor del lado b :  7\n",
      "Ingrese el valor del ángulo C :  30\n"
     ]
    },
    {
     "name": "stdout",
     "output_type": "stream",
     "text": [
      "El lado c es igual a = 5.268 cm\n",
      "El angulo A es igual a =  71.63 grados\n",
      "El angulo B es igual a =  78.37 grados\n",
      "El area del triangulo es :  17.5\n",
      "la mediana es igual a :  7.19\n"
     ]
    }
   ],
   "source": [
    "# Caso 2\n",
    "\n",
    "#Datos dos lados y un angulo comprendido\n",
    "\n",
    "a = float(input('Ingrese el valor del lado a : '))\n",
    "b = float(input('Ingrese el valor del lado b : '))\n",
    "\n",
    "C = float(input('Ingrese el valor del ángulo C : '))\n",
    "\n",
    "\n",
    "radian_C = math.radians(C)\n",
    "c = np.sqrt((a**2)+(b**2)-2*(a*b)*np.cos(radian_C))\n",
    "print('El lado c es igual a =', np.round(c,3), 'cm')\n",
    "\n",
    "## hallando los angulos\n",
    "A = ((a*np.sin(radian_C))/c)\n",
    "A = math.asin((A))*(180/np.pi)\n",
    "print('El angulo A es igual a = ', np.round(A,2), 'grados')\n",
    "\n",
    "B = 180 - A - C\n",
    "print('El angulo B es igual a = ', np.round(B,2), 'grados')\n",
    "\n",
    "area = (1/2) *a*b* np.sin(radian_C)\n",
    "print('El area del triangulo es : ',np.round(area,2))\n",
    "\n",
    "\n",
    "mediana = np.sqrt(2*(a**2+c**2)-b**2)/2\n",
    "print('la mediana es igual a : ', np.round(mediana,2))"
   ]
  },
  {
   "cell_type": "code",
   "execution_count": 7,
   "metadata": {},
   "outputs": [
    {
     "name": "stdin",
     "output_type": "stream",
     "text": [
      "Ingrese el valor del lado a :  15\n",
      "Ingrese el valor del lado b :  22\n",
      "Ingrese el valor del lado c :  17\n"
     ]
    }
   ],
   "source": [
    "# Caso 3, dados tres lados, calcular los angulos\n",
    "\n",
    "\n",
    "a = float(input('Ingrese el valor del lado a : '))\n",
    "b = float(input('Ingrese el valor del lado b : '))\n",
    "\n",
    "c = float(input('Ingrese el valor del lado c : '))\n",
    "\n"
   ]
  },
  {
   "cell_type": "code",
   "execution_count": 8,
   "metadata": {},
   "outputs": [
    {
     "name": "stdout",
     "output_type": "stream",
     "text": [
      "El angulo A es igual a =  42.89 grados\n",
      "El angulo B es igual a =  86.63 grados\n",
      "El angulo C es igual a =  50.48 grados\n",
      "El area del triangulo es :  127.28\n",
      "la mediana es igual a :  11.66\n"
     ]
    }
   ],
   "source": [
    "A = (b**2 + c**2 - a**2) / (2 *b*c)\n",
    "\n",
    "A = math.acos((A))*(180/np.pi)\n",
    "print('El angulo A es igual a = ', np.round(A,2), 'grados')\n",
    "\n",
    "B = (a**2 + c**2 - b**2) / (2 *a*c)\n",
    "\n",
    "B = math.acos((B))*(180/np.pi)\n",
    "print('El angulo B es igual a = ', np.round(B,2), 'grados')\n",
    "\n",
    "C = 180 - A - B\n",
    "print('El angulo C es igual a = ', np.round(C,2), 'grados')\n",
    "radian_C = np.radians(C)\n",
    "\n",
    "area = (1/2) *a*b* np.sin(radian_C)\n",
    "print('El area del triangulo es : ',np.round(area,2))\n",
    "\n",
    "mediana = np.sqrt(2*(a**2+c**2)-b**2)/2\n",
    "print('la mediana es igual a : ', np.round(mediana,2))"
   ]
  },
  {
   "cell_type": "code",
   "execution_count": 9,
   "metadata": {},
   "outputs": [
    {
     "name": "stdin",
     "output_type": "stream",
     "text": [
      "Ingrese el valor del angulo  A :  30\n",
      "Ingrese el valor del angulo B :  100\n",
      "Ingrese el valor del angulo C :  50\n",
      "Ingrese el valor del area :  19.45\n"
     ]
    }
   ],
   "source": [
    "## caso 4, \n",
    "#dados 3 angulos y el area, calcular los lados\n",
    "\n",
    "# Caso 3\n",
    "\n",
    "\n",
    "A = float(input('Ingrese el valor del angulo  A : '))\n",
    "B = float(input('Ingrese el valor del angulo B : '))\n",
    "\n",
    "C = float(input('Ingrese el valor del angulo C : '))\n",
    "\n",
    "area = float(input('Ingrese el valor del area : '))\n",
    "\n",
    "\n"
   ]
  },
  {
   "cell_type": "code",
   "execution_count": 11,
   "metadata": {},
   "outputs": [
    {
     "name": "stdout",
     "output_type": "stream",
     "text": [
      "El lado a es igual a = 5.08 cm\n",
      "El lado b es igual a = 10.0 cm\n",
      "El lado c es igual a = 7.78 cm\n",
      "la mediana es igual a :  4.26\n"
     ]
    }
   ],
   "source": [
    "radian_A = np.radians(A)\n",
    "radian_B = np.radians(B)\n",
    "radian_C = np.radians(C)\n",
    "\n",
    "a = (2*area*np.sin(radian_A))/(np.sin(radian_B)*np.sin(radian_C))\n",
    "a = np.sqrt(a)\n",
    "print('El lado a es igual a =', np.round(a,2), 'cm')\n",
    "\n",
    "\n",
    "b = (a*np.sin(radian_B))/(np.sin(radian_A))\n",
    "print('El lado b es igual a =', np.round(b,2), 'cm')\n",
    "\n",
    "c = (a*np.sin(radian_C))/(np.sin(radian_A))\n",
    "print('El lado c es igual a =', np.round(c,2), 'cm')\n",
    "\n",
    "mediana = np.sqrt(2*(a**2+c**2)-b**2)/2\n",
    "print('la mediana es igual a : ', np.round(mediana,2))"
   ]
  },
  {
   "cell_type": "code",
   "execution_count": null,
   "metadata": {},
   "outputs": [],
   "source": []
  },
  {
   "cell_type": "code",
   "execution_count": null,
   "metadata": {},
   "outputs": [],
   "source": []
  },
  {
   "cell_type": "code",
   "execution_count": null,
   "metadata": {},
   "outputs": [],
   "source": []
  },
  {
   "cell_type": "markdown",
   "metadata": {},
   "source": [
    "## 2. Generar matrices enésimas de Vandermonde  y calcular el determinante"
   ]
  },
  {
   "cell_type": "markdown",
   "metadata": {},
   "source": [
    "Para una matriz con numeros consecutivos de 1 a n"
   ]
  },
  {
   "cell_type": "code",
   "execution_count": 13,
   "metadata": {},
   "outputs": [
    {
     "name": "stdin",
     "output_type": "stream",
     "text": [
      "Ingrese el valor de la dimensión de la matriz n :  3\n"
     ]
    },
    {
     "name": "stdout",
     "output_type": "stream",
     "text": [
      "[[1 1 1]\n",
      " [1 2 4]\n",
      " [1 3 9]]\n"
     ]
    }
   ],
   "source": [
    "import numpy as np\n",
    "\n",
    "\n",
    "m = int(input('Ingrese el valor de la dimensión de la matriz n : '))\n",
    "n = m\n",
    "a = range(1, m+1)\n",
    "vandermonde_matriz = np.array([a]*n).T**range(n)\n",
    "print(vandermonde_matriz)"
   ]
  },
  {
   "cell_type": "markdown",
   "metadata": {},
   "source": [
    "Para una matriz con valores diferentes (n números ingresados)."
   ]
  },
  {
   "cell_type": "code",
   "execution_count": 14,
   "metadata": {},
   "outputs": [
    {
     "name": "stdin",
     "output_type": "stream",
     "text": [
      "Ingrese un número x :  2\n",
      "Ingrese un número x :  3\n",
      "Ingrese un número x :  2\n"
     ]
    }
   ],
   "source": [
    "\n",
    "a = []\n",
    "for i in range(n):\n",
    "    x  = int(input('Ingrese un número x : '))\n",
    "    a.append(x)\n",
    "    "
   ]
  },
  {
   "cell_type": "code",
   "execution_count": 15,
   "metadata": {},
   "outputs": [
    {
     "name": "stdout",
     "output_type": "stream",
     "text": [
      "[[1 2 4]\n",
      " [1 3 9]\n",
      " [1 2 4]]\n"
     ]
    }
   ],
   "source": [
    "vandermonde_matriz = np.array([a]*n).T**range(n)\n",
    "print(vandermonde_matriz)"
   ]
  },
  {
   "cell_type": "markdown",
   "metadata": {},
   "source": [
    "### Calcular el determinante"
   ]
  },
  {
   "cell_type": "code",
   "execution_count": 16,
   "metadata": {},
   "outputs": [],
   "source": [
    "def determinant_recursive(A, total=0):\n",
    "    # almacenar índices en la lista para llamar a las filas\n",
    "    indices = list(range(len(A)))\n",
    "   \n",
    "    if len(A) == 2 and len(A[0]) == 2:\n",
    "        val = A[0][0] * A[1][1] - A[1][0] * A[0][1]\n",
    "        return val\n",
    " \n",
    "    # define una sub matriz para enfocarse en cada columna\n",
    "    for fc in indices: # para cada columna\n",
    "        # encontramos una sub matriz\n",
    "        As = A#realiza una copia de la matriz\n",
    "        As = As[1:] # elimina la primera fila\n",
    "        n_largo = len(As) # obtenemos la dimension n \n",
    " \n",
    "        for i in range(n_largo): \n",
    "            # \n",
    "            As[i] = list(As[i][0:fc]) + list(As[i][fc+1:] )\n",
    " \n",
    "        signo = (-1) ** (fc % 2) # asigna el signo\n",
    "        # pasamos la sub matriz recursivamente nuevamente al mismo método \n",
    "        sub_det = determinant_recursive(As)\n",
    "        # sumar todos los retornos de la recursividad\n",
    "        total += signo * A[0][fc] * sub_det \n",
    " \n",
    "    return total"
   ]
  },
  {
   "cell_type": "code",
   "execution_count": 17,
   "metadata": {},
   "outputs": [
    {
     "name": "stdout",
     "output_type": "stream",
     "text": [
      "La determinante de la matriz A es 0\n",
      "La determinante de la matriz A según la librería de numpy es  0.0\n"
     ]
    }
   ],
   "source": [
    "A = list(vandermonde_matriz)  \n",
    "Det = determinant_recursive(A)\n",
    "npDet = np.linalg.det(A)\n",
    "print(\"La determinante de la matriz A es\", round(Det,9))\n",
    "print(\"La determinante de la matriz A según la librería de numpy es \", round(npDet,9))\n",
    "\n"
   ]
  },
  {
   "cell_type": "markdown",
   "metadata": {},
   "source": [
    "## 3"
   ]
  },
  {
   "cell_type": "code",
   "execution_count": 19,
   "metadata": {},
   "outputs": [
    {
     "name": "stdin",
     "output_type": "stream",
     "text": [
      "Ingrese el numero de coeficientes del polinomio 1 5\n",
      "Ingrese un coeficiente del del polinomio 1 12\n"
     ]
    },
    {
     "name": "stdout",
     "output_type": "stream",
     "text": [
      "12\n"
     ]
    },
    {
     "name": "stdin",
     "output_type": "stream",
     "text": [
      "Ingrese un coeficiente del del polinomio 1 -7\n"
     ]
    },
    {
     "name": "stdout",
     "output_type": "stream",
     "text": [
      "-7\n"
     ]
    },
    {
     "name": "stdin",
     "output_type": "stream",
     "text": [
      "Ingrese un coeficiente del del polinomio 1 -74\n"
     ]
    },
    {
     "name": "stdout",
     "output_type": "stream",
     "text": [
      "-74\n"
     ]
    },
    {
     "name": "stdin",
     "output_type": "stream",
     "text": [
      "Ingrese un coeficiente del del polinomio 1 -7\n"
     ]
    },
    {
     "name": "stdout",
     "output_type": "stream",
     "text": [
      "-7\n"
     ]
    },
    {
     "name": "stdin",
     "output_type": "stream",
     "text": [
      "Ingrese un coeficiente del del polinomio 1 16\n"
     ]
    },
    {
     "name": "stdout",
     "output_type": "stream",
     "text": [
      "16\n",
      "polinomio 1  [12, -7, -74, -7, 16]\n"
     ]
    },
    {
     "name": "stdin",
     "output_type": "stream",
     "text": [
      "Ingrese el numero de coeficientes del polinomio 2 3\n",
      "Ingrese un coeficiente del del polinomio 2 3\n",
      "Ingrese un coeficiente del del polinomio 2 -7\n",
      "Ingrese un coeficiente del del polinomio 2 -4\n"
     ]
    },
    {
     "name": "stdout",
     "output_type": "stream",
     "text": [
      "[12, -7, -74, -7, 16] [3, -7, -4]\n"
     ]
    }
   ],
   "source": [
    "import numpy as np\n",
    "#Polinomio 1\n",
    "#Valor de x\n",
    "#Coeficientes del polinomio\n",
    "\n",
    "numero_coeficientes_p1 = int(input('Ingrese el numero de coeficientes del polinomio 1'))\n",
    "coef_polinomio_1 = []\n",
    "coef_polinomio_2 = []\n",
    "for m in range(numero_coeficientes_p1):\n",
    "    a = int(input('Ingrese un coeficiente del del polinomio 1'))\n",
    "    print(a)\n",
    "    coef_polinomio_1.append(a)\n",
    "print('polinomio 1 ', coef_polinomio_1)\n",
    "numero_coeficientes_p2 = int(input('Ingrese el numero de coeficientes del polinomio 2'))\n",
    "\n",
    "for m in range(numero_coeficientes_p2):\n",
    "    a = int(input('Ingrese un coeficiente del del polinomio 2'))\n",
    "    \n",
    "    coef_polinomio_2.append(a)\n",
    "\n",
    "\n",
    "print(coef_polinomio_1, coef_polinomio_2)\n"
   ]
  },
  {
   "cell_type": "code",
   "execution_count": 20,
   "metadata": {},
   "outputs": [
    {
     "data": {
      "text/plain": [
       "([12, -7, -74, -7, 16], [3, -7, -4])"
      ]
     },
     "execution_count": 20,
     "metadata": {},
     "output_type": "execute_result"
    }
   ],
   "source": [
    "coef_polinomio_1, coef_polinomio_2"
   ]
  },
  {
   "cell_type": "code",
   "execution_count": 22,
   "metadata": {},
   "outputs": [
    {
     "name": "stdout",
     "output_type": "stream",
     "text": [
      "divisor  [7 4]\n",
      "resto  [-7, 16]\n",
      "primer cociente  3\n"
     ]
    }
   ],
   "source": [
    "\n",
    "resultado=0\n",
    "divisor =np.array(coef_polinomio_2[1:])\n",
    "divisor = -1*divisor\n",
    "resto = coef_polinomio_1[len(coef_polinomio_1)-(len(coef_polinomio_2)-1):]\n",
    "\n",
    "primer_cociente = coef_polinomio_2[0]\n",
    "print('divisor ', divisor)\n",
    "print('resto ', resto)\n",
    "print('primer cociente ',primer_cociente)\n"
   ]
  },
  {
   "cell_type": "code",
   "execution_count": 23,
   "metadata": {},
   "outputs": [
    {
     "name": "stdout",
     "output_type": "stream",
     "text": [
      "coef_cocientes [4.0]\n",
      "nueva_lista [28.0, 16.0]\n",
      "sumas\n",
      "-7 28.0\n",
      "sumatoria ....  21.0\n",
      "sumatoria valor 21.0\n",
      "nueva_lista final  [16.0]\n",
      "======\n",
      "coef_cocientes [4.0, 7.0]\n",
      "nueva_lista [16.0, 49.0, 28.0]\n",
      "sumas\n",
      "-74 16.0\n",
      "sumatoria ....  -58.0\n",
      "sumas\n",
      "-58.0 49.0\n",
      "sumatoria ....  -9.0\n",
      "sumatoria valor -9.0\n",
      "nueva_lista final  [28.0]\n",
      "======\n",
      "coef_cocientes [4.0, 7.0, -3.0]\n",
      "nueva_lista [28.0, -21.0, -12.0]\n",
      "sumas\n",
      "-7 28.0\n",
      "sumatoria ....  21.0\n",
      "sumas\n",
      "21.0 -21.0\n",
      "sumatoria ....  0.0\n",
      "sumatoria valor 0.0\n"
     ]
    }
   ],
   "source": [
    "resultado_escalera = 0\n",
    "coef_cocientes = []\n",
    "nuevo_valor = [coef_polinomio_1[0]]\n",
    "#Recorrer los coeficientes\n",
    "lista = []\n",
    "nuevo_valor = coef_polinomio_1[0]\n",
    "nueva_lista = []\n",
    "for i in range(len(coef_polinomio_1)-len(resto)):\n",
    "    \n",
    "    resultado = nuevo_valor / primer_cociente\n",
    "    coef_cocientes.append(resultado)\n",
    "    print('coef_cocientes',coef_cocientes)\n",
    "    sumatoria = []\n",
    "    for j in range(len(divisor)):\n",
    "        \n",
    "        valor = divisor[j]*coef_cocientes[i]\n",
    "        nueva_lista.append(valor)\n",
    "        \n",
    "    print('nueva_lista',nueva_lista)\n",
    "    sumatoria_valor = coef_polinomio_1[i+1]\n",
    "    \n",
    "    for k in range(len(nueva_lista)-len(divisor)+1):\n",
    "        print('sumas')\n",
    "        print(sumatoria_valor, nueva_lista[k])\n",
    "        sumatoria_valor = sumatoria_valor + nueva_lista[k]\n",
    "\n",
    "        print('sumatoria .... ', sumatoria_valor)\n",
    "        \n",
    "    print('sumatoria valor', sumatoria_valor)\n",
    "    if i == (len(coef_polinomio_1)-len(resto))-1:\n",
    "        break\n",
    "        \n",
    "    nuevo_valor = sumatoria_valor\n",
    "    nueva_lista = nueva_lista[i+1:]\n",
    "    print('nueva_lista final ', nueva_lista)\n",
    "    print('======')\n",
    "\n",
    "    "
   ]
  },
  {
   "cell_type": "code",
   "execution_count": 25,
   "metadata": {},
   "outputs": [
    {
     "name": "stdout",
     "output_type": "stream",
     "text": [
      "los coeficientes finales  [4.0, 7.0, -3.0]\n"
     ]
    }
   ],
   "source": [
    "print('los coeficientes finales ', coef_cocientes)"
   ]
  },
  {
   "cell_type": "code",
   "execution_count": 26,
   "metadata": {},
   "outputs": [
    {
     "name": "stdout",
     "output_type": "stream",
     "text": [
      "coef_resto_valor nuevo 21.0\n",
      "coef_resto_valor nuevo 0.0\n",
      "=====\n",
      "coef_resto_valor nuevo 4.0\n",
      "=====\n"
     ]
    }
   ],
   "source": [
    "nueva_lista_resto = nueva_lista\n",
    "nuevo_divisor = divisor\n",
    "coef_resto_resultado = []\n",
    "for i in range(len(resto)):\n",
    "    \n",
    "    coef_resto_valor = resto[i]\n",
    "    \n",
    "    for j in range(len(resto)):\n",
    "        \n",
    "        coef_resto_valor = coef_resto_valor + nueva_lista_resto[j]\n",
    "        \n",
    "        print('coef_resto_valor nuevo',coef_resto_valor)\n",
    "        \n",
    "        if len(nueva_lista_resto)==1:\n",
    "            \n",
    "            break\n",
    "    \n",
    "    coef_resto_resultado.append(coef_resto_valor)\n",
    "    nueva_lista_resto = nueva_lista_resto[len(resto):]\n",
    "    \n",
    "    print('=====')"
   ]
  },
  {
   "cell_type": "code",
   "execution_count": 29,
   "metadata": {},
   "outputs": [
    {
     "name": "stdout",
     "output_type": "stream",
     "text": [
      "los valores del resto final es  [0.0, 4.0]\n"
     ]
    }
   ],
   "source": [
    "print('los valores del resto final es ' , coef_resto_resultado)"
   ]
  },
  {
   "cell_type": "code",
   "execution_count": null,
   "metadata": {},
   "outputs": [],
   "source": []
  },
  {
   "cell_type": "code",
   "execution_count": 31,
   "metadata": {},
   "outputs": [
    {
     "name": "stdin",
     "output_type": "stream",
     "text": [
      "Ingrese el valor de x  3\n"
     ]
    },
    {
     "name": "stdout",
     "output_type": "stream",
     "text": [
      "Resultado: 54.0 con resto  4.0\n"
     ]
    }
   ],
   "source": [
    "#Valor de x\n",
    "x= int(input('Ingrese el valor de x '))\n",
    "#Coeficientes del polinomio\n",
    "coeficientes=coef_cocientes\n",
    "\n",
    "resultado=0\n",
    "#Recorrer los coeficientes\n",
    "for i in range(0,len(coeficientes)):\n",
    "    #Multiplicar al valor parcial el valor de x más el coeficiente\n",
    "    resultado= resultado * x + coeficientes[i]\n",
    "\n",
    "suma_resto = 0\n",
    "suma_resto = np.array(coef_resto_resultado).sum()\n",
    "\n",
    "    \n",
    "print(\"Resultado: \"+str(resultado), 'con resto ', suma_resto)\n"
   ]
  },
  {
   "cell_type": "code",
   "execution_count": null,
   "metadata": {},
   "outputs": [],
   "source": []
  },
  {
   "cell_type": "markdown",
   "metadata": {},
   "source": [
    "### 4."
   ]
  },
  {
   "cell_type": "markdown",
   "metadata": {},
   "source": [
    "ax + by = c \n",
    "\n",
    "dx + ey = f\n"
   ]
  },
  {
   "cell_type": "code",
   "execution_count": 32,
   "metadata": {},
   "outputs": [
    {
     "name": "stdin",
     "output_type": "stream",
     "text": [
      "Ingrese el valor de a  1\n",
      "Ingrese el valor de b  2\n",
      "Ingrese el valor de c  3\n",
      "Ingrese el valor de d  4\n",
      "Ingrese el valor de e  5\n",
      "Ingrese el valor de f  6\n"
     ]
    },
    {
     "name": "stdout",
     "output_type": "stream",
     "text": [
      "La solucion al sistema es x= -1.0 e y= 2.0\n"
     ]
    }
   ],
   "source": [
    "\n",
    "a = int(input('Ingrese el valor de a '))\n",
    "b = int(input('Ingrese el valor de b '))\n",
    "c = int(input('Ingrese el valor de c '))\n",
    "d = int(input('Ingrese el valor de d '))\n",
    "e = int(input('Ingrese el valor de e '))\n",
    "f = int(input('Ingrese el valor de f '))\n",
    "\n",
    "det = a * e - b * d\n",
    "\n",
    "if det != 0 :\n",
    "    x = (e * c - b * f) / det\n",
    "    y = (a * f - d * c) / det\n",
    "\n",
    "    print (\"La solucion al sistema es x=\", x, \"e y=\", y)\n",
    "\n",
    "else :\n",
    "    m = d / a\n",
    "\n",
    "    if m * c == f :\n",
    "        print (\"El sistema tiene infinitas soluciones\")\n",
    "    else:\n",
    "        print (\"El sistema no tiene soluciones\")\n",
    "        \n",
    "        "
   ]
  },
  {
   "cell_type": "code",
   "execution_count": null,
   "metadata": {},
   "outputs": [],
   "source": []
  }
 ],
 "metadata": {
  "kernelspec": {
   "display_name": "Python 3",
   "language": "python",
   "name": "python3"
  },
  "language_info": {
   "codemirror_mode": {
    "name": "ipython",
    "version": 3
   },
   "file_extension": ".py",
   "mimetype": "text/x-python",
   "name": "python",
   "nbconvert_exporter": "python",
   "pygments_lexer": "ipython3",
   "version": "3.7.9"
  }
 },
 "nbformat": 4,
 "nbformat_minor": 4
}
